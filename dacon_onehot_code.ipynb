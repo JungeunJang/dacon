{
 "cells": [
  {
   "cell_type": "code",
   "execution_count": 13,
   "metadata": {
    "tags": []
   },
   "outputs": [],
   "source": [
    "import pandas as pd\n",
    "\n",
    "df = pd.read_csv('data/201901-202003.csv')\n"
   ]
  },
  {
   "cell_type": "code",
   "execution_count": 6,
   "metadata": {},
   "outputs": [],
   "source": [
    "#지역별 데이터 분류\n"
   ]
  },
  {
   "cell_type": "code",
   "execution_count": 14,
   "metadata": {
    "tags": []
   },
   "outputs": [],
   "source": [
    "#raw 데이터 그룹바이\n",
    "df = df.groupby(['REG_YYMM','CARD_SIDO_NM', 'STD_CLSS_NM', 'HOM_SIDO_NM', 'AGE', 'SEX_CTGO_CD', 'FLC']).sum()"
   ]
  },
  {
   "cell_type": "code",
   "execution_count": 16,
   "metadata": {},
   "outputs": [],
   "source": [
    "df.reset_index(inplace=True)"
   ]
  },
  {
   "cell_type": "code",
   "execution_count": 8,
   "metadata": {},
   "outputs": [],
   "source": [
    "#원핫인코딩 코드\n",
    "def myData(data, cols):\n",
    "    # print(data[col])\n",
    "    for col in cols:\n",
    "        data = pd.concat([data, pd.get_dummies(data[col], prefix=col)] ,axis=1)\n",
    "        data = data.drop(col, axis = 1)\n",
    "    return data"
   ]
  },
  {
   "cell_type": "code",
   "execution_count": 19,
   "metadata": {},
   "outputs": [],
   "source": [
    "#원한 인코딩 적용\n",
    "cols = ['CARD_SIDO_NM', 'STD_CLSS_NM', 'HOM_SIDO_NM', 'AGE', 'SEX_CTGO_CD', 'FLC']\n",
    "df = myData(df, cols)\n",
    "\n"
   ]
  },
  {
   "cell_type": "code",
   "execution_count": 20,
   "metadata": {},
   "outputs": [
    {
     "output_type": "execute_result",
     "data": {
      "text/plain": "         REG_YYMM  CSTMR_CNT      AMT  CNT  CARD_SIDO_NM_강원  CARD_SIDO_NM_경기  \\\n0          201901          4   311200    4                1                0   \n1          201901         44  5169295   45                1                0   \n2          201901         89  8618550   91                1                0   \n3          201901          3   454420    3                1                0   \n4          201901         53  6441165   60                1                0   \n...           ...        ...      ...  ...              ...              ...   \n1057389    202003          9   385700   10                0                0   \n1057390    202003         10   790350   19                0                0   \n1057391    202003          4    99000    6                0                0   \n1057392    202003          6   228800    6                0                0   \n1057393    202003          3    51500    3                0                0   \n\n         CARD_SIDO_NM_경남  CARD_SIDO_NM_경북  CARD_SIDO_NM_광주  CARD_SIDO_NM_대구  \\\n0                      0                0                0                0   \n1                      0                0                0                0   \n2                      0                0                0                0   \n3                      0                0                0                0   \n4                      0                0                0                0   \n...                  ...              ...              ...              ...   \n1057389                0                0                0                0   \n1057390                0                0                0                0   \n1057391                0                0                0                0   \n1057392                0                0                0                0   \n1057393                0                0                0                0   \n\n         ...  AGE_50s  AGE_60s  AGE_70s  SEX_CTGO_CD_1  SEX_CTGO_CD_2  FLC_1  \\\n0        ...        0        0        0              1              0      1   \n1        ...        0        0        0              1              0      0   \n2        ...        0        0        0              0              1      0   \n3        ...        0        0        0              1              0      0   \n4        ...        0        0        0              1              0      0   \n...      ...      ...      ...      ...            ...            ...    ...   \n1057389  ...        0        0        0              1              0      0   \n1057390  ...        1        0        0              1              0      0   \n1057391  ...        1        0        0              0              1      0   \n1057392  ...        0        1        0              1              0      0   \n1057393  ...        0        1        0              0              1      0   \n\n         FLC_2  FLC_3  FLC_4  FLC_5  \n0            0      0      0      0  \n1            1      0      0      0  \n2            1      0      0      0  \n3            1      0      0      0  \n4            0      1      0      0  \n...        ...    ...    ...    ...  \n1057389      0      0      1      0  \n1057390      0      0      1      0  \n1057391      0      0      1      0  \n1057392      0      0      0      1  \n1057393      0      0      0      1  \n\n[1057394 rows x 93 columns]",
      "text/html": "<div>\n<style scoped>\n    .dataframe tbody tr th:only-of-type {\n        vertical-align: middle;\n    }\n\n    .dataframe tbody tr th {\n        vertical-align: top;\n    }\n\n    .dataframe thead th {\n        text-align: right;\n    }\n</style>\n<table border=\"1\" class=\"dataframe\">\n  <thead>\n    <tr style=\"text-align: right;\">\n      <th></th>\n      <th>REG_YYMM</th>\n      <th>CSTMR_CNT</th>\n      <th>AMT</th>\n      <th>CNT</th>\n      <th>CARD_SIDO_NM_강원</th>\n      <th>CARD_SIDO_NM_경기</th>\n      <th>CARD_SIDO_NM_경남</th>\n      <th>CARD_SIDO_NM_경북</th>\n      <th>CARD_SIDO_NM_광주</th>\n      <th>CARD_SIDO_NM_대구</th>\n      <th>...</th>\n      <th>AGE_50s</th>\n      <th>AGE_60s</th>\n      <th>AGE_70s</th>\n      <th>SEX_CTGO_CD_1</th>\n      <th>SEX_CTGO_CD_2</th>\n      <th>FLC_1</th>\n      <th>FLC_2</th>\n      <th>FLC_3</th>\n      <th>FLC_4</th>\n      <th>FLC_5</th>\n    </tr>\n  </thead>\n  <tbody>\n    <tr>\n      <th>0</th>\n      <td>201901</td>\n      <td>4</td>\n      <td>311200</td>\n      <td>4</td>\n      <td>1</td>\n      <td>0</td>\n      <td>0</td>\n      <td>0</td>\n      <td>0</td>\n      <td>0</td>\n      <td>...</td>\n      <td>0</td>\n      <td>0</td>\n      <td>0</td>\n      <td>1</td>\n      <td>0</td>\n      <td>1</td>\n      <td>0</td>\n      <td>0</td>\n      <td>0</td>\n      <td>0</td>\n    </tr>\n    <tr>\n      <th>1</th>\n      <td>201901</td>\n      <td>44</td>\n      <td>5169295</td>\n      <td>45</td>\n      <td>1</td>\n      <td>0</td>\n      <td>0</td>\n      <td>0</td>\n      <td>0</td>\n      <td>0</td>\n      <td>...</td>\n      <td>0</td>\n      <td>0</td>\n      <td>0</td>\n      <td>1</td>\n      <td>0</td>\n      <td>0</td>\n      <td>1</td>\n      <td>0</td>\n      <td>0</td>\n      <td>0</td>\n    </tr>\n    <tr>\n      <th>2</th>\n      <td>201901</td>\n      <td>89</td>\n      <td>8618550</td>\n      <td>91</td>\n      <td>1</td>\n      <td>0</td>\n      <td>0</td>\n      <td>0</td>\n      <td>0</td>\n      <td>0</td>\n      <td>...</td>\n      <td>0</td>\n      <td>0</td>\n      <td>0</td>\n      <td>0</td>\n      <td>1</td>\n      <td>0</td>\n      <td>1</td>\n      <td>0</td>\n      <td>0</td>\n      <td>0</td>\n    </tr>\n    <tr>\n      <th>3</th>\n      <td>201901</td>\n      <td>3</td>\n      <td>454420</td>\n      <td>3</td>\n      <td>1</td>\n      <td>0</td>\n      <td>0</td>\n      <td>0</td>\n      <td>0</td>\n      <td>0</td>\n      <td>...</td>\n      <td>0</td>\n      <td>0</td>\n      <td>0</td>\n      <td>1</td>\n      <td>0</td>\n      <td>0</td>\n      <td>1</td>\n      <td>0</td>\n      <td>0</td>\n      <td>0</td>\n    </tr>\n    <tr>\n      <th>4</th>\n      <td>201901</td>\n      <td>53</td>\n      <td>6441165</td>\n      <td>60</td>\n      <td>1</td>\n      <td>0</td>\n      <td>0</td>\n      <td>0</td>\n      <td>0</td>\n      <td>0</td>\n      <td>...</td>\n      <td>0</td>\n      <td>0</td>\n      <td>0</td>\n      <td>1</td>\n      <td>0</td>\n      <td>0</td>\n      <td>0</td>\n      <td>1</td>\n      <td>0</td>\n      <td>0</td>\n    </tr>\n    <tr>\n      <th>...</th>\n      <td>...</td>\n      <td>...</td>\n      <td>...</td>\n      <td>...</td>\n      <td>...</td>\n      <td>...</td>\n      <td>...</td>\n      <td>...</td>\n      <td>...</td>\n      <td>...</td>\n      <td>...</td>\n      <td>...</td>\n      <td>...</td>\n      <td>...</td>\n      <td>...</td>\n      <td>...</td>\n      <td>...</td>\n      <td>...</td>\n      <td>...</td>\n      <td>...</td>\n      <td>...</td>\n    </tr>\n    <tr>\n      <th>1057389</th>\n      <td>202003</td>\n      <td>9</td>\n      <td>385700</td>\n      <td>10</td>\n      <td>0</td>\n      <td>0</td>\n      <td>0</td>\n      <td>0</td>\n      <td>0</td>\n      <td>0</td>\n      <td>...</td>\n      <td>0</td>\n      <td>0</td>\n      <td>0</td>\n      <td>1</td>\n      <td>0</td>\n      <td>0</td>\n      <td>0</td>\n      <td>0</td>\n      <td>1</td>\n      <td>0</td>\n    </tr>\n    <tr>\n      <th>1057390</th>\n      <td>202003</td>\n      <td>10</td>\n      <td>790350</td>\n      <td>19</td>\n      <td>0</td>\n      <td>0</td>\n      <td>0</td>\n      <td>0</td>\n      <td>0</td>\n      <td>0</td>\n      <td>...</td>\n      <td>1</td>\n      <td>0</td>\n      <td>0</td>\n      <td>1</td>\n      <td>0</td>\n      <td>0</td>\n      <td>0</td>\n      <td>0</td>\n      <td>1</td>\n      <td>0</td>\n    </tr>\n    <tr>\n      <th>1057391</th>\n      <td>202003</td>\n      <td>4</td>\n      <td>99000</td>\n      <td>6</td>\n      <td>0</td>\n      <td>0</td>\n      <td>0</td>\n      <td>0</td>\n      <td>0</td>\n      <td>0</td>\n      <td>...</td>\n      <td>1</td>\n      <td>0</td>\n      <td>0</td>\n      <td>0</td>\n      <td>1</td>\n      <td>0</td>\n      <td>0</td>\n      <td>0</td>\n      <td>1</td>\n      <td>0</td>\n    </tr>\n    <tr>\n      <th>1057392</th>\n      <td>202003</td>\n      <td>6</td>\n      <td>228800</td>\n      <td>6</td>\n      <td>0</td>\n      <td>0</td>\n      <td>0</td>\n      <td>0</td>\n      <td>0</td>\n      <td>0</td>\n      <td>...</td>\n      <td>0</td>\n      <td>1</td>\n      <td>0</td>\n      <td>1</td>\n      <td>0</td>\n      <td>0</td>\n      <td>0</td>\n      <td>0</td>\n      <td>0</td>\n      <td>1</td>\n    </tr>\n    <tr>\n      <th>1057393</th>\n      <td>202003</td>\n      <td>3</td>\n      <td>51500</td>\n      <td>3</td>\n      <td>0</td>\n      <td>0</td>\n      <td>0</td>\n      <td>0</td>\n      <td>0</td>\n      <td>0</td>\n      <td>...</td>\n      <td>0</td>\n      <td>1</td>\n      <td>0</td>\n      <td>0</td>\n      <td>1</td>\n      <td>0</td>\n      <td>0</td>\n      <td>0</td>\n      <td>0</td>\n      <td>1</td>\n    </tr>\n  </tbody>\n</table>\n<p>1057394 rows × 93 columns</p>\n</div>"
     },
     "metadata": {},
     "execution_count": 20
    }
   ],
   "source": [
    "df.to_csv('data_onehot_encoding.to_csv')"
   ]
  }
 ],
 "metadata": {
  "language_info": {
   "codemirror_mode": {
    "name": "ipython",
    "version": 3
   },
   "file_extension": ".py",
   "mimetype": "text/x-python",
   "name": "python",
   "nbconvert_exporter": "python",
   "pygments_lexer": "ipython3",
   "version": "3.7.7-final"
  },
  "orig_nbformat": 2,
  "kernelspec": {
   "name": "python37764bit4dda73a9a4c74a0399c4c617d3b49df0",
   "display_name": "Python 3.7.7 64-bit"
  }
 },
 "nbformat": 4,
 "nbformat_minor": 2
}